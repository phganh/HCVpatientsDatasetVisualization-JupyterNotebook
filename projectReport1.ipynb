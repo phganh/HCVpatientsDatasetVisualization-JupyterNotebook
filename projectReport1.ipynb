{
 "cells": [
  {
   "cell_type": "code",
   "execution_count": 1,
   "metadata": {},
   "outputs": [],
   "source": [
    "import pandas as pd\n",
    "import numpy as np \n",
    "import matplotlib.pyplot as plt\n",
    "%matplotlib inline\n",
    "import seaborn as sns\n",
    "import os"
   ]
  },
  {
   "cell_type": "code",
   "execution_count": 2,
   "metadata": {},
   "outputs": [],
   "source": [
    "#import data table\n",
    "data=pd.read_csv('HCV-Egy-Data.csv')"
   ]
  },
  {
   "cell_type": "code",
   "execution_count": 3,
   "metadata": {},
   "outputs": [
    {
     "data": {
      "text/plain": [
       "1385"
      ]
     },
     "execution_count": 3,
     "metadata": {},
     "output_type": "execute_result"
    }
   ],
   "source": [
    "#check if all the values are imported correctly. data set has 1385 rows\n",
    "len(data)"
   ]
  },
  {
   "cell_type": "code",
   "execution_count": 4,
   "metadata": {},
   "outputs": [
    {
     "data": {
      "text/plain": [
       "Age                                   int64\n",
       "Gender                                int64\n",
       "BMI                                   int64\n",
       "Fever                                 int64\n",
       "Nausea/Vomting                        int64\n",
       "Headache                              int64\n",
       "Diarrhea                              int64\n",
       "Fatigue & generalized bone ache       int64\n",
       "Jaundice                              int64\n",
       "Epigastric pain                       int64\n",
       "WBC                                   int64\n",
       "RBC                                 float64\n",
       "HGB                                   int64\n",
       "Plat                                float64\n",
       "AST 1                                 int64\n",
       "ALT 1                                 int64\n",
       "ALT4                                float64\n",
       "ALT 12                                int64\n",
       "ALT 24                                int64\n",
       "ALT 36                                int64\n",
       "ALT 48                                int64\n",
       "ALT after 24 w                        int64\n",
       "RNA Base                              int64\n",
       "RNA 4                                 int64\n",
       "RNA 12                                int64\n",
       "RNA EOT                               int64\n",
       "RNA EF                                int64\n",
       "Baseline histological Grading         int64\n",
       "Baselinehistological staging          int64\n",
       "dtype: object"
      ]
     },
     "execution_count": 4,
     "metadata": {},
     "output_type": "execute_result"
    }
   ],
   "source": [
    "#check types of attributes\n",
    "#'gender' column: int type for 1=Male 2=Female\n",
    "#from 'fever' column to 'epigastric pain' column: int type for 1=absent 2=present\n",
    "\n",
    "data.dtypes"
   ]
  },
  {
   "cell_type": "code",
   "execution_count": 5,
   "metadata": {},
   "outputs": [],
   "source": [
    "#value types are as expected\n",
    "#up to what the data set is projected now, no missing values are detected (yet)\n",
    "#however, the orginial table of data set (.csv file) displays 'RBC', 'Plat', 'ALT4' as integer values (no floating point)\n",
    "#so checking again to make sure these 3 columns contain all float values"
   ]
  },
  {
   "cell_type": "code",
   "execution_count": 6,
   "metadata": {},
   "outputs": [
    {
     "data": {
      "text/plain": [
       "0       <class 'float'>\n",
       "1       <class 'float'>\n",
       "2       <class 'float'>\n",
       "3       <class 'float'>\n",
       "4       <class 'float'>\n",
       "             ...       \n",
       "1380    <class 'float'>\n",
       "1381    <class 'float'>\n",
       "1382    <class 'float'>\n",
       "1383    <class 'float'>\n",
       "1384    <class 'float'>\n",
       "Name: RBC, Length: 1385, dtype: object"
      ]
     },
     "execution_count": 6,
     "metadata": {},
     "output_type": "execute_result"
    }
   ],
   "source": [
    "data['RBC'].apply(type)"
   ]
  },
  {
   "cell_type": "code",
   "execution_count": 7,
   "metadata": {},
   "outputs": [
    {
     "data": {
      "text/plain": [
       "0       <class 'float'>\n",
       "1       <class 'float'>\n",
       "2       <class 'float'>\n",
       "3       <class 'float'>\n",
       "4       <class 'float'>\n",
       "             ...       \n",
       "1380    <class 'float'>\n",
       "1381    <class 'float'>\n",
       "1382    <class 'float'>\n",
       "1383    <class 'float'>\n",
       "1384    <class 'float'>\n",
       "Name: Plat, Length: 1385, dtype: object"
      ]
     },
     "execution_count": 7,
     "metadata": {},
     "output_type": "execute_result"
    }
   ],
   "source": [
    "data['Plat'].apply(type)"
   ]
  },
  {
   "cell_type": "code",
   "execution_count": 8,
   "metadata": {},
   "outputs": [
    {
     "data": {
      "text/plain": [
       "0       <class 'float'>\n",
       "1       <class 'float'>\n",
       "2       <class 'float'>\n",
       "3       <class 'float'>\n",
       "4       <class 'float'>\n",
       "             ...       \n",
       "1380    <class 'float'>\n",
       "1381    <class 'float'>\n",
       "1382    <class 'float'>\n",
       "1383    <class 'float'>\n",
       "1384    <class 'float'>\n",
       "Name: ALT4, Length: 1385, dtype: object"
      ]
     },
     "execution_count": 8,
     "metadata": {},
     "output_type": "execute_result"
    }
   ],
   "source": [
    "data['ALT4'].apply(type)"
   ]
  },
  {
   "cell_type": "code",
   "execution_count": 9,
   "metadata": {},
   "outputs": [
    {
     "data": {
      "text/html": [
       "<div>\n",
       "<style scoped>\n",
       "    .dataframe tbody tr th:only-of-type {\n",
       "        vertical-align: middle;\n",
       "    }\n",
       "\n",
       "    .dataframe tbody tr th {\n",
       "        vertical-align: top;\n",
       "    }\n",
       "\n",
       "    .dataframe thead th {\n",
       "        text-align: right;\n",
       "    }\n",
       "</style>\n",
       "<table border=\"1\" class=\"dataframe\">\n",
       "  <thead>\n",
       "    <tr style=\"text-align: right;\">\n",
       "      <th></th>\n",
       "      <th>Age</th>\n",
       "      <th>Gender</th>\n",
       "      <th>BMI</th>\n",
       "      <th>Fever</th>\n",
       "      <th>Nausea/Vomting</th>\n",
       "      <th>Headache</th>\n",
       "      <th>Diarrhea</th>\n",
       "      <th>Fatigue &amp; generalized bone ache</th>\n",
       "      <th>Jaundice</th>\n",
       "      <th>Epigastric pain</th>\n",
       "      <th>...</th>\n",
       "      <th>ALT 36</th>\n",
       "      <th>ALT 48</th>\n",
       "      <th>ALT after 24 w</th>\n",
       "      <th>RNA Base</th>\n",
       "      <th>RNA 4</th>\n",
       "      <th>RNA 12</th>\n",
       "      <th>RNA EOT</th>\n",
       "      <th>RNA EF</th>\n",
       "      <th>Baseline histological Grading</th>\n",
       "      <th>Baselinehistological staging</th>\n",
       "    </tr>\n",
       "  </thead>\n",
       "  <tbody>\n",
       "    <tr>\n",
       "      <th>0</th>\n",
       "      <td>56</td>\n",
       "      <td>1</td>\n",
       "      <td>35</td>\n",
       "      <td>2</td>\n",
       "      <td>1</td>\n",
       "      <td>1</td>\n",
       "      <td>1</td>\n",
       "      <td>2</td>\n",
       "      <td>2</td>\n",
       "      <td>2</td>\n",
       "      <td>...</td>\n",
       "      <td>5</td>\n",
       "      <td>5</td>\n",
       "      <td>5</td>\n",
       "      <td>655330</td>\n",
       "      <td>634536</td>\n",
       "      <td>288194</td>\n",
       "      <td>5</td>\n",
       "      <td>5</td>\n",
       "      <td>13</td>\n",
       "      <td>2</td>\n",
       "    </tr>\n",
       "    <tr>\n",
       "      <th>1</th>\n",
       "      <td>46</td>\n",
       "      <td>1</td>\n",
       "      <td>29</td>\n",
       "      <td>1</td>\n",
       "      <td>2</td>\n",
       "      <td>2</td>\n",
       "      <td>1</td>\n",
       "      <td>2</td>\n",
       "      <td>2</td>\n",
       "      <td>1</td>\n",
       "      <td>...</td>\n",
       "      <td>57</td>\n",
       "      <td>123</td>\n",
       "      <td>44</td>\n",
       "      <td>40620</td>\n",
       "      <td>538635</td>\n",
       "      <td>637056</td>\n",
       "      <td>336804</td>\n",
       "      <td>31085</td>\n",
       "      <td>4</td>\n",
       "      <td>2</td>\n",
       "    </tr>\n",
       "    <tr>\n",
       "      <th>2</th>\n",
       "      <td>57</td>\n",
       "      <td>1</td>\n",
       "      <td>33</td>\n",
       "      <td>2</td>\n",
       "      <td>2</td>\n",
       "      <td>2</td>\n",
       "      <td>2</td>\n",
       "      <td>1</td>\n",
       "      <td>1</td>\n",
       "      <td>1</td>\n",
       "      <td>...</td>\n",
       "      <td>5</td>\n",
       "      <td>5</td>\n",
       "      <td>5</td>\n",
       "      <td>571148</td>\n",
       "      <td>661346</td>\n",
       "      <td>5</td>\n",
       "      <td>735945</td>\n",
       "      <td>558829</td>\n",
       "      <td>4</td>\n",
       "      <td>4</td>\n",
       "    </tr>\n",
       "    <tr>\n",
       "      <th>3</th>\n",
       "      <td>49</td>\n",
       "      <td>2</td>\n",
       "      <td>33</td>\n",
       "      <td>1</td>\n",
       "      <td>2</td>\n",
       "      <td>1</td>\n",
       "      <td>2</td>\n",
       "      <td>1</td>\n",
       "      <td>2</td>\n",
       "      <td>1</td>\n",
       "      <td>...</td>\n",
       "      <td>48</td>\n",
       "      <td>77</td>\n",
       "      <td>33</td>\n",
       "      <td>1041941</td>\n",
       "      <td>449939</td>\n",
       "      <td>585688</td>\n",
       "      <td>744463</td>\n",
       "      <td>582301</td>\n",
       "      <td>10</td>\n",
       "      <td>3</td>\n",
       "    </tr>\n",
       "    <tr>\n",
       "      <th>4</th>\n",
       "      <td>59</td>\n",
       "      <td>1</td>\n",
       "      <td>32</td>\n",
       "      <td>1</td>\n",
       "      <td>1</td>\n",
       "      <td>2</td>\n",
       "      <td>1</td>\n",
       "      <td>2</td>\n",
       "      <td>2</td>\n",
       "      <td>2</td>\n",
       "      <td>...</td>\n",
       "      <td>94</td>\n",
       "      <td>90</td>\n",
       "      <td>30</td>\n",
       "      <td>660410</td>\n",
       "      <td>738756</td>\n",
       "      <td>3731527</td>\n",
       "      <td>338946</td>\n",
       "      <td>242861</td>\n",
       "      <td>11</td>\n",
       "      <td>1</td>\n",
       "    </tr>\n",
       "  </tbody>\n",
       "</table>\n",
       "<p>5 rows × 29 columns</p>\n",
       "</div>"
      ],
      "text/plain": [
       "   Age   Gender  BMI  Fever  Nausea/Vomting  Headache   Diarrhea   \\\n",
       "0    56       1   35      2               1          1          1   \n",
       "1    46       1   29      1               2          2          1   \n",
       "2    57       1   33      2               2          2          2   \n",
       "3    49       2   33      1               2          1          2   \n",
       "4    59       1   32      1               1          2          1   \n",
       "\n",
       "   Fatigue & generalized bone ache   Jaundice   Epigastric pain   ...  ALT 36  \\\n",
       "0                                 2          2                 2  ...       5   \n",
       "1                                 2          2                 1  ...      57   \n",
       "2                                 1          1                 1  ...       5   \n",
       "3                                 1          2                 1  ...      48   \n",
       "4                                 2          2                 2  ...      94   \n",
       "\n",
       "   ALT 48  ALT after 24 w  RNA Base   RNA 4   RNA 12  RNA EOT  RNA EF  \\\n",
       "0       5               5    655330  634536   288194        5       5   \n",
       "1     123              44     40620  538635   637056   336804   31085   \n",
       "2       5               5    571148  661346        5   735945  558829   \n",
       "3      77              33   1041941  449939   585688   744463  582301   \n",
       "4      90              30    660410  738756  3731527   338946  242861   \n",
       "\n",
       "   Baseline histological Grading  Baselinehistological staging  \n",
       "0                             13                             2  \n",
       "1                              4                             2  \n",
       "2                              4                             4  \n",
       "3                             10                             3  \n",
       "4                             11                             1  \n",
       "\n",
       "[5 rows x 29 columns]"
      ]
     },
     "execution_count": 9,
     "metadata": {},
     "output_type": "execute_result"
    }
   ],
   "source": [
    "data.head()"
   ]
  },
  {
   "cell_type": "code",
   "execution_count": 10,
   "metadata": {},
   "outputs": [],
   "source": [
    "#Rename attributes\n",
    "data.columns=['Age','Gender','BMI','Fever','Nausea/Vomting','Headache','Diarrhea','Fatigue','Jaundice','Epigastric Pain',\n",
    "              'WBC','RBC','HGB','Plat','AST 1','ALT 1','ALT 4','ALT 12','ALT 24','ALT 36','ALT 48','ALT after 24w',\n",
    "              'RNA Base','RNA 4','RNA 12','RNA EOT','RNA EF',\n",
    "              'Baseline Histological Grading','Baseline Histological Staging']"
   ]
  },
  {
   "cell_type": "code",
   "execution_count": 11,
   "metadata": {},
   "outputs": [],
   "source": [
    "#making a copy of the data set - preparing to make changes to the data set\n",
    "#to make it suitable for the group's classfication problem\n",
    "dataC=data.copy()"
   ]
  },
  {
   "cell_type": "code",
   "execution_count": 12,
   "metadata": {},
   "outputs": [],
   "source": [
    "#decided to use 12 of those attributes in the data set\n",
    "#Age, Gender, BMI, Fever, Nausea/Vomiting, Headache,\n",
    "#Diarrhea, Fatigue & generalized bone ache, Jaundice,\n",
    "#Epigastric pain, Baseline histological Grading, and Baseline histological Staging\n",
    "#delete columns: from WBC -> RNA EF (index 10->27)\n",
    "dataC.drop(dataC.iloc[:, 10:27], axis = 1, inplace = True)"
   ]
  },
  {
   "cell_type": "code",
   "execution_count": 13,
   "metadata": {
    "scrolled": true
   },
   "outputs": [
    {
     "data": {
      "text/html": [
       "<div>\n",
       "<style scoped>\n",
       "    .dataframe tbody tr th:only-of-type {\n",
       "        vertical-align: middle;\n",
       "    }\n",
       "\n",
       "    .dataframe tbody tr th {\n",
       "        vertical-align: top;\n",
       "    }\n",
       "\n",
       "    .dataframe thead th {\n",
       "        text-align: right;\n",
       "    }\n",
       "</style>\n",
       "<table border=\"1\" class=\"dataframe\">\n",
       "  <thead>\n",
       "    <tr style=\"text-align: right;\">\n",
       "      <th></th>\n",
       "      <th>Age</th>\n",
       "      <th>Gender</th>\n",
       "      <th>BMI</th>\n",
       "      <th>Fever</th>\n",
       "      <th>Nausea/Vomting</th>\n",
       "      <th>Headache</th>\n",
       "      <th>Diarrhea</th>\n",
       "      <th>Fatigue</th>\n",
       "      <th>Jaundice</th>\n",
       "      <th>Epigastric Pain</th>\n",
       "      <th>Baseline Histological Grading</th>\n",
       "      <th>Baseline Histological Staging</th>\n",
       "    </tr>\n",
       "  </thead>\n",
       "  <tbody>\n",
       "    <tr>\n",
       "      <th>0</th>\n",
       "      <td>56</td>\n",
       "      <td>1</td>\n",
       "      <td>35</td>\n",
       "      <td>2</td>\n",
       "      <td>1</td>\n",
       "      <td>1</td>\n",
       "      <td>1</td>\n",
       "      <td>2</td>\n",
       "      <td>2</td>\n",
       "      <td>2</td>\n",
       "      <td>13</td>\n",
       "      <td>2</td>\n",
       "    </tr>\n",
       "    <tr>\n",
       "      <th>1</th>\n",
       "      <td>46</td>\n",
       "      <td>1</td>\n",
       "      <td>29</td>\n",
       "      <td>1</td>\n",
       "      <td>2</td>\n",
       "      <td>2</td>\n",
       "      <td>1</td>\n",
       "      <td>2</td>\n",
       "      <td>2</td>\n",
       "      <td>1</td>\n",
       "      <td>4</td>\n",
       "      <td>2</td>\n",
       "    </tr>\n",
       "    <tr>\n",
       "      <th>2</th>\n",
       "      <td>57</td>\n",
       "      <td>1</td>\n",
       "      <td>33</td>\n",
       "      <td>2</td>\n",
       "      <td>2</td>\n",
       "      <td>2</td>\n",
       "      <td>2</td>\n",
       "      <td>1</td>\n",
       "      <td>1</td>\n",
       "      <td>1</td>\n",
       "      <td>4</td>\n",
       "      <td>4</td>\n",
       "    </tr>\n",
       "    <tr>\n",
       "      <th>3</th>\n",
       "      <td>49</td>\n",
       "      <td>2</td>\n",
       "      <td>33</td>\n",
       "      <td>1</td>\n",
       "      <td>2</td>\n",
       "      <td>1</td>\n",
       "      <td>2</td>\n",
       "      <td>1</td>\n",
       "      <td>2</td>\n",
       "      <td>1</td>\n",
       "      <td>10</td>\n",
       "      <td>3</td>\n",
       "    </tr>\n",
       "    <tr>\n",
       "      <th>4</th>\n",
       "      <td>59</td>\n",
       "      <td>1</td>\n",
       "      <td>32</td>\n",
       "      <td>1</td>\n",
       "      <td>1</td>\n",
       "      <td>2</td>\n",
       "      <td>1</td>\n",
       "      <td>2</td>\n",
       "      <td>2</td>\n",
       "      <td>2</td>\n",
       "      <td>11</td>\n",
       "      <td>1</td>\n",
       "    </tr>\n",
       "  </tbody>\n",
       "</table>\n",
       "</div>"
      ],
      "text/plain": [
       "   Age  Gender  BMI  Fever  Nausea/Vomting  Headache  Diarrhea  Fatigue  \\\n",
       "0   56       1   35      2               1         1         1        2   \n",
       "1   46       1   29      1               2         2         1        2   \n",
       "2   57       1   33      2               2         2         2        1   \n",
       "3   49       2   33      1               2         1         2        1   \n",
       "4   59       1   32      1               1         2         1        2   \n",
       "\n",
       "   Jaundice  Epigastric Pain  Baseline Histological Grading  \\\n",
       "0         2                2                             13   \n",
       "1         2                1                              4   \n",
       "2         1                1                              4   \n",
       "3         2                1                             10   \n",
       "4         2                2                             11   \n",
       "\n",
       "   Baseline Histological Staging  \n",
       "0                              2  \n",
       "1                              2  \n",
       "2                              4  \n",
       "3                              3  \n",
       "4                              1  "
      ]
     },
     "execution_count": 13,
     "metadata": {},
     "output_type": "execute_result"
    }
   ],
   "source": [
    "dataC.head()"
   ]
  },
  {
   "cell_type": "code",
   "execution_count": 14,
   "metadata": {},
   "outputs": [],
   "source": [
    "#Change the data type to correct form - in this case integer -> category type for\n",
    "#'gender': category type Male = 1 & Female = 2\n",
    "dataC['Gender'] = dataC['Gender'].apply({1:'Male', 2:'Female'}.get)"
   ]
  },
  {
   "cell_type": "code",
   "execution_count": 15,
   "metadata": {},
   "outputs": [],
   "source": [
    "#from 'fever' column to 'epigastric pain' column: Absent = 1 & Present = 2\n",
    "for col in (dataC.iloc[:,3:10]):\n",
    "    dataC[col] = dataC[col].apply({1:'Absent', 2:'Present'}.get)"
   ]
  },
  {
   "cell_type": "code",
   "execution_count": 16,
   "metadata": {},
   "outputs": [
    {
     "data": {
      "text/html": [
       "<div>\n",
       "<style scoped>\n",
       "    .dataframe tbody tr th:only-of-type {\n",
       "        vertical-align: middle;\n",
       "    }\n",
       "\n",
       "    .dataframe tbody tr th {\n",
       "        vertical-align: top;\n",
       "    }\n",
       "\n",
       "    .dataframe thead th {\n",
       "        text-align: right;\n",
       "    }\n",
       "</style>\n",
       "<table border=\"1\" class=\"dataframe\">\n",
       "  <thead>\n",
       "    <tr style=\"text-align: right;\">\n",
       "      <th></th>\n",
       "      <th>Age</th>\n",
       "      <th>Gender</th>\n",
       "      <th>BMI</th>\n",
       "      <th>Fever</th>\n",
       "      <th>Nausea/Vomting</th>\n",
       "      <th>Headache</th>\n",
       "      <th>Diarrhea</th>\n",
       "      <th>Fatigue</th>\n",
       "      <th>Jaundice</th>\n",
       "      <th>Epigastric Pain</th>\n",
       "      <th>Baseline Histological Grading</th>\n",
       "      <th>Baseline Histological Staging</th>\n",
       "    </tr>\n",
       "  </thead>\n",
       "  <tbody>\n",
       "    <tr>\n",
       "      <th>0</th>\n",
       "      <td>56</td>\n",
       "      <td>Male</td>\n",
       "      <td>35</td>\n",
       "      <td>Present</td>\n",
       "      <td>Absent</td>\n",
       "      <td>Absent</td>\n",
       "      <td>Absent</td>\n",
       "      <td>Present</td>\n",
       "      <td>Present</td>\n",
       "      <td>Present</td>\n",
       "      <td>13</td>\n",
       "      <td>2</td>\n",
       "    </tr>\n",
       "    <tr>\n",
       "      <th>1</th>\n",
       "      <td>46</td>\n",
       "      <td>Male</td>\n",
       "      <td>29</td>\n",
       "      <td>Absent</td>\n",
       "      <td>Present</td>\n",
       "      <td>Present</td>\n",
       "      <td>Absent</td>\n",
       "      <td>Present</td>\n",
       "      <td>Present</td>\n",
       "      <td>Absent</td>\n",
       "      <td>4</td>\n",
       "      <td>2</td>\n",
       "    </tr>\n",
       "    <tr>\n",
       "      <th>2</th>\n",
       "      <td>57</td>\n",
       "      <td>Male</td>\n",
       "      <td>33</td>\n",
       "      <td>Present</td>\n",
       "      <td>Present</td>\n",
       "      <td>Present</td>\n",
       "      <td>Present</td>\n",
       "      <td>Absent</td>\n",
       "      <td>Absent</td>\n",
       "      <td>Absent</td>\n",
       "      <td>4</td>\n",
       "      <td>4</td>\n",
       "    </tr>\n",
       "    <tr>\n",
       "      <th>3</th>\n",
       "      <td>49</td>\n",
       "      <td>Female</td>\n",
       "      <td>33</td>\n",
       "      <td>Absent</td>\n",
       "      <td>Present</td>\n",
       "      <td>Absent</td>\n",
       "      <td>Present</td>\n",
       "      <td>Absent</td>\n",
       "      <td>Present</td>\n",
       "      <td>Absent</td>\n",
       "      <td>10</td>\n",
       "      <td>3</td>\n",
       "    </tr>\n",
       "    <tr>\n",
       "      <th>4</th>\n",
       "      <td>59</td>\n",
       "      <td>Male</td>\n",
       "      <td>32</td>\n",
       "      <td>Absent</td>\n",
       "      <td>Absent</td>\n",
       "      <td>Present</td>\n",
       "      <td>Absent</td>\n",
       "      <td>Present</td>\n",
       "      <td>Present</td>\n",
       "      <td>Present</td>\n",
       "      <td>11</td>\n",
       "      <td>1</td>\n",
       "    </tr>\n",
       "  </tbody>\n",
       "</table>\n",
       "</div>"
      ],
      "text/plain": [
       "   Age  Gender  BMI    Fever Nausea/Vomting Headache Diarrhea  Fatigue  \\\n",
       "0   56    Male   35  Present         Absent   Absent   Absent  Present   \n",
       "1   46    Male   29   Absent        Present  Present   Absent  Present   \n",
       "2   57    Male   33  Present        Present  Present  Present   Absent   \n",
       "3   49  Female   33   Absent        Present   Absent  Present   Absent   \n",
       "4   59    Male   32   Absent         Absent  Present   Absent  Present   \n",
       "\n",
       "  Jaundice Epigastric Pain  Baseline Histological Grading  \\\n",
       "0  Present         Present                             13   \n",
       "1  Present          Absent                              4   \n",
       "2   Absent          Absent                              4   \n",
       "3  Present          Absent                             10   \n",
       "4  Present         Present                             11   \n",
       "\n",
       "   Baseline Histological Staging  \n",
       "0                              2  \n",
       "1                              2  \n",
       "2                              4  \n",
       "3                              3  \n",
       "4                              1  "
      ]
     },
     "execution_count": 16,
     "metadata": {},
     "output_type": "execute_result"
    }
   ],
   "source": [
    "dataC.head()"
   ]
  },
  {
   "cell_type": "code",
   "execution_count": 17,
   "metadata": {},
   "outputs": [],
   "source": [
    "#Set above values to category\n",
    "dataC['Gender'] = dataC['Gender'].astype('category')\n",
    "for col in (dataC.iloc[:,3:10]):\n",
    "    dataC[col] = dataC[col].astype('category')"
   ]
  },
  {
   "cell_type": "code",
   "execution_count": 18,
   "metadata": {},
   "outputs": [
    {
     "name": "stdout",
     "output_type": "stream",
     "text": [
      "<class 'pandas.core.frame.DataFrame'>\n",
      "RangeIndex: 1385 entries, 0 to 1384\n",
      "Data columns (total 12 columns):\n",
      " #   Column                         Non-Null Count  Dtype   \n",
      "---  ------                         --------------  -----   \n",
      " 0   Age                            1385 non-null   int64   \n",
      " 1   Gender                         1385 non-null   category\n",
      " 2   BMI                            1385 non-null   int64   \n",
      " 3   Fever                          1385 non-null   category\n",
      " 4   Nausea/Vomting                 1385 non-null   category\n",
      " 5   Headache                       1385 non-null   category\n",
      " 6   Diarrhea                       1385 non-null   category\n",
      " 7   Fatigue                        1385 non-null   category\n",
      " 8   Jaundice                       1385 non-null   category\n",
      " 9   Epigastric Pain                1385 non-null   category\n",
      " 10  Baseline Histological Grading  1385 non-null   int64   \n",
      " 11  Baseline Histological Staging  1385 non-null   int64   \n",
      "dtypes: category(8), int64(4)\n",
      "memory usage: 55.0 KB\n"
     ]
    }
   ],
   "source": [
    "dataC.info()"
   ]
  },
  {
   "cell_type": "code",
   "execution_count": 19,
   "metadata": {},
   "outputs": [],
   "source": [
    "#unable to make connection between baseline histological grading values\n",
    "#with the rest of the data so drop this column from the target data set\n",
    "dataC.drop('Baseline Histological Grading', axis = 1, inplace = True)"
   ]
  },
  {
   "cell_type": "code",
   "execution_count": 20,
   "metadata": {},
   "outputs": [
    {
     "data": {
      "text/html": [
       "<div>\n",
       "<style scoped>\n",
       "    .dataframe tbody tr th:only-of-type {\n",
       "        vertical-align: middle;\n",
       "    }\n",
       "\n",
       "    .dataframe tbody tr th {\n",
       "        vertical-align: top;\n",
       "    }\n",
       "\n",
       "    .dataframe thead th {\n",
       "        text-align: right;\n",
       "    }\n",
       "</style>\n",
       "<table border=\"1\" class=\"dataframe\">\n",
       "  <thead>\n",
       "    <tr style=\"text-align: right;\">\n",
       "      <th></th>\n",
       "      <th>Age</th>\n",
       "      <th>Gender</th>\n",
       "      <th>BMI</th>\n",
       "      <th>Fever</th>\n",
       "      <th>Nausea/Vomting</th>\n",
       "      <th>Headache</th>\n",
       "      <th>Diarrhea</th>\n",
       "      <th>Fatigue</th>\n",
       "      <th>Jaundice</th>\n",
       "      <th>Epigastric Pain</th>\n",
       "      <th>Baseline Histological Staging</th>\n",
       "    </tr>\n",
       "  </thead>\n",
       "  <tbody>\n",
       "    <tr>\n",
       "      <th>0</th>\n",
       "      <td>56</td>\n",
       "      <td>Male</td>\n",
       "      <td>35</td>\n",
       "      <td>Present</td>\n",
       "      <td>Absent</td>\n",
       "      <td>Absent</td>\n",
       "      <td>Absent</td>\n",
       "      <td>Present</td>\n",
       "      <td>Present</td>\n",
       "      <td>Present</td>\n",
       "      <td>2</td>\n",
       "    </tr>\n",
       "    <tr>\n",
       "      <th>1</th>\n",
       "      <td>46</td>\n",
       "      <td>Male</td>\n",
       "      <td>29</td>\n",
       "      <td>Absent</td>\n",
       "      <td>Present</td>\n",
       "      <td>Present</td>\n",
       "      <td>Absent</td>\n",
       "      <td>Present</td>\n",
       "      <td>Present</td>\n",
       "      <td>Absent</td>\n",
       "      <td>2</td>\n",
       "    </tr>\n",
       "    <tr>\n",
       "      <th>2</th>\n",
       "      <td>57</td>\n",
       "      <td>Male</td>\n",
       "      <td>33</td>\n",
       "      <td>Present</td>\n",
       "      <td>Present</td>\n",
       "      <td>Present</td>\n",
       "      <td>Present</td>\n",
       "      <td>Absent</td>\n",
       "      <td>Absent</td>\n",
       "      <td>Absent</td>\n",
       "      <td>4</td>\n",
       "    </tr>\n",
       "    <tr>\n",
       "      <th>3</th>\n",
       "      <td>49</td>\n",
       "      <td>Female</td>\n",
       "      <td>33</td>\n",
       "      <td>Absent</td>\n",
       "      <td>Present</td>\n",
       "      <td>Absent</td>\n",
       "      <td>Present</td>\n",
       "      <td>Absent</td>\n",
       "      <td>Present</td>\n",
       "      <td>Absent</td>\n",
       "      <td>3</td>\n",
       "    </tr>\n",
       "    <tr>\n",
       "      <th>4</th>\n",
       "      <td>59</td>\n",
       "      <td>Male</td>\n",
       "      <td>32</td>\n",
       "      <td>Absent</td>\n",
       "      <td>Absent</td>\n",
       "      <td>Present</td>\n",
       "      <td>Absent</td>\n",
       "      <td>Present</td>\n",
       "      <td>Present</td>\n",
       "      <td>Present</td>\n",
       "      <td>1</td>\n",
       "    </tr>\n",
       "  </tbody>\n",
       "</table>\n",
       "</div>"
      ],
      "text/plain": [
       "   Age  Gender  BMI    Fever Nausea/Vomting Headache Diarrhea  Fatigue  \\\n",
       "0   56    Male   35  Present         Absent   Absent   Absent  Present   \n",
       "1   46    Male   29   Absent        Present  Present   Absent  Present   \n",
       "2   57    Male   33  Present        Present  Present  Present   Absent   \n",
       "3   49  Female   33   Absent        Present   Absent  Present   Absent   \n",
       "4   59    Male   32   Absent         Absent  Present   Absent  Present   \n",
       "\n",
       "  Jaundice Epigastric Pain  Baseline Histological Staging  \n",
       "0  Present         Present                              2  \n",
       "1  Present          Absent                              2  \n",
       "2   Absent          Absent                              4  \n",
       "3  Present          Absent                              3  \n",
       "4  Present         Present                              1  "
      ]
     },
     "execution_count": 20,
     "metadata": {},
     "output_type": "execute_result"
    }
   ],
   "source": [
    "dataC.head()"
   ]
  },
  {
   "cell_type": "code",
   "execution_count": 21,
   "metadata": {},
   "outputs": [
    {
     "data": {
      "text/html": [
       "<div>\n",
       "<style scoped>\n",
       "    .dataframe tbody tr th:only-of-type {\n",
       "        vertical-align: middle;\n",
       "    }\n",
       "\n",
       "    .dataframe tbody tr th {\n",
       "        vertical-align: top;\n",
       "    }\n",
       "\n",
       "    .dataframe thead th {\n",
       "        text-align: right;\n",
       "    }\n",
       "</style>\n",
       "<table border=\"1\" class=\"dataframe\">\n",
       "  <thead>\n",
       "    <tr style=\"text-align: right;\">\n",
       "      <th></th>\n",
       "      <th>Age</th>\n",
       "      <th>BMI</th>\n",
       "      <th>Baseline Histological Staging</th>\n",
       "    </tr>\n",
       "  </thead>\n",
       "  <tbody>\n",
       "    <tr>\n",
       "      <th>count</th>\n",
       "      <td>1385.000000</td>\n",
       "      <td>1385.000000</td>\n",
       "      <td>1385.000000</td>\n",
       "    </tr>\n",
       "    <tr>\n",
       "      <th>mean</th>\n",
       "      <td>46.319134</td>\n",
       "      <td>28.608664</td>\n",
       "      <td>2.536462</td>\n",
       "    </tr>\n",
       "    <tr>\n",
       "      <th>std</th>\n",
       "      <td>8.781506</td>\n",
       "      <td>4.076215</td>\n",
       "      <td>1.121392</td>\n",
       "    </tr>\n",
       "    <tr>\n",
       "      <th>min</th>\n",
       "      <td>32.000000</td>\n",
       "      <td>22.000000</td>\n",
       "      <td>1.000000</td>\n",
       "    </tr>\n",
       "    <tr>\n",
       "      <th>25%</th>\n",
       "      <td>39.000000</td>\n",
       "      <td>25.000000</td>\n",
       "      <td>2.000000</td>\n",
       "    </tr>\n",
       "    <tr>\n",
       "      <th>50%</th>\n",
       "      <td>46.000000</td>\n",
       "      <td>29.000000</td>\n",
       "      <td>3.000000</td>\n",
       "    </tr>\n",
       "    <tr>\n",
       "      <th>75%</th>\n",
       "      <td>54.000000</td>\n",
       "      <td>32.000000</td>\n",
       "      <td>4.000000</td>\n",
       "    </tr>\n",
       "    <tr>\n",
       "      <th>max</th>\n",
       "      <td>61.000000</td>\n",
       "      <td>35.000000</td>\n",
       "      <td>4.000000</td>\n",
       "    </tr>\n",
       "  </tbody>\n",
       "</table>\n",
       "</div>"
      ],
      "text/plain": [
       "               Age          BMI  Baseline Histological Staging\n",
       "count  1385.000000  1385.000000                    1385.000000\n",
       "mean     46.319134    28.608664                       2.536462\n",
       "std       8.781506     4.076215                       1.121392\n",
       "min      32.000000    22.000000                       1.000000\n",
       "25%      39.000000    25.000000                       2.000000\n",
       "50%      46.000000    29.000000                       3.000000\n",
       "75%      54.000000    32.000000                       4.000000\n",
       "max      61.000000    35.000000                       4.000000"
      ]
     },
     "execution_count": 21,
     "metadata": {},
     "output_type": "execute_result"
    }
   ],
   "source": [
    "dataC.describe()"
   ]
  },
  {
   "cell_type": "code",
   "execution_count": 22,
   "metadata": {
    "scrolled": true
   },
   "outputs": [
    {
     "data": {
      "image/png": "[encoded data removed]",
      "text/plain": [
       "<Figure size 1440x432 with 3 Axes>"
      ]
     },
     "metadata": {
      "needs_background": "light"
     },
     "output_type": "display_data"
    }
   ],
   "source": [
    "#Boxplot for numeric values in the data set of both genders (Age, BMI, and Basline Histological Staging)\n",
    "dataC.plot(kind='box', subplots=True, sharex=False, sharey=False, figsize=(20,6))\n",
    "plt.show()"
   ]
  },
  {
   "cell_type": "code",
   "execution_count": 23,
   "metadata": {},
   "outputs": [],
   "source": [
    "#From the Age boxplot, ages of both genders fall around 20-70 years old\n",
    "#Set up the ageRange column to draw bar plot\n",
    "#showing the age range group by gender of the data set\n",
    "bins=[20,30,40,50,60,70,80]\n",
    "labels=['less than 30','30-39','40-49','50-59','60-69','70+']\n",
    "dataC[\"Age Range\"]=pd.cut(dataC.Age,bins,labels=labels,include_lowest=True)"
   ]
  },
  {
   "cell_type": "code",
   "execution_count": 24,
   "metadata": {},
   "outputs": [],
   "source": [
    "ageRgen=dataC.groupby(['Age Range','Gender'])"
   ]
  },
  {
   "cell_type": "code",
   "execution_count": 25,
   "metadata": {},
   "outputs": [
    {
     "data": {
      "text/plain": [
       "<matplotlib.axes._subplots.AxesSubplot at 0x18fbb8cb460>"
      ]
     },
     "execution_count": 25,
     "metadata": {},
     "output_type": "execute_result"
    },
    {
     "data": {
      "image/png": "[encoded data removed]",
      "text/plain": [
       "<Figure size 432x288 with 1 Axes>"
      ]
     },
     "metadata": {
      "needs_background": "light"
     },
     "output_type": "display_data"
    }
   ],
   "source": [
    "#Bar graph by age range for both genders\n",
    "ageRgen.size().unstack().plot(kind='barh')"
   ]
  },
  {
   "cell_type": "code",
   "execution_count": 26,
   "metadata": {},
   "outputs": [
    {
     "data": {
      "image/png": "[encoded data removed]",
      "text/plain": [
       "<Figure size 432x288 with 1 Axes>"
      ]
     },
     "metadata": {
      "needs_background": "light"
     },
     "output_type": "display_data"
    }
   ],
   "source": [
    "#Age Distribution of all the patients\n",
    "sns.distplot(dataC.Age,bins=10,label=\"Age\",rug=True)\n",
    "plt.yticks([])\n",
    "plt.legend()\n",
    "plt.show()"
   ]
  },
  {
   "cell_type": "code",
   "execution_count": 27,
   "metadata": {},
   "outputs": [
    {
     "data": {
      "image/png": "[encoded data removed]",
      "text/plain": [
       "<Figure size 432x288 with 1 Axes>"
      ]
     },
     "metadata": {
      "needs_background": "light"
     },
     "output_type": "display_data"
    }
   ],
   "source": [
    "#BMI Distribution of all the patients-show no pattern\n",
    "sns.distplot(dataC.BMI,bins=10,label=\"BMI\",rug=True)\n",
    "plt.yticks([])\n",
    "plt.legend()\n",
    "plt.show()"
   ]
  },
  {
   "cell_type": "code",
   "execution_count": 28,
   "metadata": {},
   "outputs": [
    {
     "data": {
      "image/png": "[encoded data removed]",
      "text/plain": [
       "<Figure size 432x288 with 1 Axes>"
      ]
     },
     "metadata": {
      "needs_background": "light"
     },
     "output_type": "display_data"
    }
   ],
   "source": [
    "#Baseline Histological Staging across each gender\n",
    "sns.countplot(x=dataC['Baseline Histological Staging'], hue=dataC.Gender)\n",
    "plt.xlabel('Histological Staging')\n",
    "plt.legend(bbox_to_anchor=(1,1))\n",
    "plt.show()"
   ]
  },
  {
   "cell_type": "code",
   "execution_count": 29,
   "metadata": {},
   "outputs": [
    {
     "data": {
      "text/plain": [
       "(1385, 29)"
      ]
     },
     "execution_count": 29,
     "metadata": {},
     "output_type": "execute_result"
    }
   ],
   "source": [
    "#for Exploratory Data Analysis in the report\n",
    "#checking number of observations and characteristics in the data set\n",
    "data.shape"
   ]
  },
  {
   "cell_type": "code",
   "execution_count": 30,
   "metadata": {},
   "outputs": [
    {
     "data": {
      "text/html": [
       "<div>\n",
       "<style scoped>\n",
       "    .dataframe tbody tr th:only-of-type {\n",
       "        vertical-align: middle;\n",
       "    }\n",
       "\n",
       "    .dataframe tbody tr th {\n",
       "        vertical-align: top;\n",
       "    }\n",
       "\n",
       "    .dataframe thead th {\n",
       "        text-align: right;\n",
       "    }\n",
       "</style>\n",
       "<table border=\"1\" class=\"dataframe\">\n",
       "  <thead>\n",
       "    <tr style=\"text-align: right;\">\n",
       "      <th></th>\n",
       "      <th>Age</th>\n",
       "      <th>BMI</th>\n",
       "      <th>Baseline Histological Staging</th>\n",
       "    </tr>\n",
       "  </thead>\n",
       "  <tbody>\n",
       "    <tr>\n",
       "      <th>count</th>\n",
       "      <td>1385.000000</td>\n",
       "      <td>1385.000000</td>\n",
       "      <td>1385.000000</td>\n",
       "    </tr>\n",
       "    <tr>\n",
       "      <th>mean</th>\n",
       "      <td>46.319134</td>\n",
       "      <td>28.608664</td>\n",
       "      <td>2.536462</td>\n",
       "    </tr>\n",
       "    <tr>\n",
       "      <th>std</th>\n",
       "      <td>8.781506</td>\n",
       "      <td>4.076215</td>\n",
       "      <td>1.121392</td>\n",
       "    </tr>\n",
       "    <tr>\n",
       "      <th>min</th>\n",
       "      <td>32.000000</td>\n",
       "      <td>22.000000</td>\n",
       "      <td>1.000000</td>\n",
       "    </tr>\n",
       "    <tr>\n",
       "      <th>25%</th>\n",
       "      <td>39.000000</td>\n",
       "      <td>25.000000</td>\n",
       "      <td>2.000000</td>\n",
       "    </tr>\n",
       "    <tr>\n",
       "      <th>50%</th>\n",
       "      <td>46.000000</td>\n",
       "      <td>29.000000</td>\n",
       "      <td>3.000000</td>\n",
       "    </tr>\n",
       "    <tr>\n",
       "      <th>75%</th>\n",
       "      <td>54.000000</td>\n",
       "      <td>32.000000</td>\n",
       "      <td>4.000000</td>\n",
       "    </tr>\n",
       "    <tr>\n",
       "      <th>max</th>\n",
       "      <td>61.000000</td>\n",
       "      <td>35.000000</td>\n",
       "      <td>4.000000</td>\n",
       "    </tr>\n",
       "  </tbody>\n",
       "</table>\n",
       "</div>"
      ],
      "text/plain": [
       "               Age          BMI  Baseline Histological Staging\n",
       "count  1385.000000  1385.000000                    1385.000000\n",
       "mean     46.319134    28.608664                       2.536462\n",
       "std       8.781506     4.076215                       1.121392\n",
       "min      32.000000    22.000000                       1.000000\n",
       "25%      39.000000    25.000000                       2.000000\n",
       "50%      46.000000    29.000000                       3.000000\n",
       "75%      54.000000    32.000000                       4.000000\n",
       "max      61.000000    35.000000                       4.000000"
      ]
     },
     "execution_count": 30,
     "metadata": {},
     "output_type": "execute_result"
    }
   ],
   "source": [
    "#Baseline Histological Staging should be a category data\n",
    "dataC.describe()"
   ]
  },
  {
   "cell_type": "code",
   "execution_count": 31,
   "metadata": {},
   "outputs": [
    {
     "data": {
      "image/png": "[encoded data removed]",
      "text/plain": [
       "<Figure size 1440x432 with 3 Axes>"
      ]
     },
     "metadata": {
      "needs_background": "light"
     },
     "output_type": "display_data"
    }
   ],
   "source": [
    "#Boxplot for numeric values in the data set of both genders (Age, BMI, and Basline Histological Staging)\n",
    "dataC.plot(kind='box', subplots=True, sharex=False, sharey=False, figsize=(20,6))\n",
    "plt.show()"
   ]
  }
 ],
 "metadata": {
  "kernelspec": {
   "display_name": "Python 3",
   "language": "python",
   "name": "python3"
  },
  "language_info": {
   "codemirror_mode": {
    "name": "ipython",
    "version": 3
   },
   "file_extension": ".py",
   "mimetype": "text/x-python",
   "name": "python",
   "nbconvert_exporter": "python",
   "pygments_lexer": "ipython3",
   "version": "3.8.3"
  }
 },
 "nbformat": 4,
 "nbformat_minor": 4
}
